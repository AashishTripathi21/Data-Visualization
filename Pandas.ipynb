{
 "cells": [
  {
   "cell_type": "markdown",
   "id": "98d89b8a",
   "metadata": {},
   "source": [
    "# Pandas"
   ]
  },
  {
   "cell_type": "code",
   "execution_count": 1,
   "id": "e190db7c",
   "metadata": {},
   "outputs": [],
   "source": [
    "import pandas as pd            ### Importing the library Pandas alias as pd"
   ]
  },
  {
   "cell_type": "code",
   "execution_count": 2,
   "id": "0b8c9d5c",
   "metadata": {},
   "outputs": [],
   "source": [
    "import numpy as np             ### Importing the library Numpy alias as np"
   ]
  },
  {
   "cell_type": "markdown",
   "id": "00322120",
   "metadata": {},
   "source": [
    "## Pandas dataframe and indexing"
   ]
  },
  {
   "cell_type": "code",
   "execution_count": 3,
   "id": "cb83bcbe",
   "metadata": {},
   "outputs": [
    {
     "data": {
      "text/plain": [
       "cricket       1\n",
       "football      2\n",
       "basketball    3\n",
       "golf          4\n",
       "dtype: int64"
      ]
     },
     "execution_count": 3,
     "metadata": {},
     "output_type": "execute_result"
    }
   ],
   "source": [
    "sports1=pd.Series([1,2,3,4],index=['cricket','football','basketball','golf'])    ### Creating a Tabular column\n",
    "sports1"
   ]
  },
  {
   "cell_type": "code",
   "execution_count": 4,
   "id": "2a5a88cc",
   "metadata": {},
   "outputs": [
    {
     "data": {
      "text/plain": [
       "2"
      ]
     },
     "execution_count": 4,
     "metadata": {},
     "output_type": "execute_result"
    }
   ],
   "source": [
    "sports1['football']         ### Index of football from sports1"
   ]
  },
  {
   "cell_type": "code",
   "execution_count": 5,
   "id": "19cf91ee",
   "metadata": {},
   "outputs": [
    {
     "data": {
      "text/plain": [
       "cricket     11\n",
       "football    13\n",
       "baseball    12\n",
       "golf         5\n",
       "dtype: int64"
      ]
     },
     "execution_count": 5,
     "metadata": {},
     "output_type": "execute_result"
    }
   ],
   "source": [
    "sports2=pd.Series([11,13,12,5],index=['cricket','football','baseball','golf'])   ### Creating the second tabular column\n",
    "sports2"
   ]
  },
  {
   "cell_type": "code",
   "execution_count": 6,
   "id": "82f5e9a8",
   "metadata": {},
   "outputs": [
    {
     "data": {
      "text/plain": [
       "baseball       NaN\n",
       "basketball     NaN\n",
       "cricket       12.0\n",
       "football      15.0\n",
       "golf           9.0\n",
       "dtype: float64"
      ]
     },
     "execution_count": 6,
     "metadata": {},
     "output_type": "execute_result"
    }
   ],
   "source": [
    "sports1+sports2      ### Adding the two sports column Index"
   ]
  },
  {
   "cell_type": "code",
   "execution_count": 7,
   "id": "5c836a71",
   "metadata": {},
   "outputs": [
    {
     "data": {
      "text/html": [
       "<div>\n",
       "<style scoped>\n",
       "    .dataframe tbody tr th:only-of-type {\n",
       "        vertical-align: middle;\n",
       "    }\n",
       "\n",
       "    .dataframe tbody tr th {\n",
       "        vertical-align: top;\n",
       "    }\n",
       "\n",
       "    .dataframe thead th {\n",
       "        text-align: right;\n",
       "    }\n",
       "</style>\n",
       "<table border=\"1\" class=\"dataframe\">\n",
       "  <thead>\n",
       "    <tr style=\"text-align: right;\">\n",
       "      <th></th>\n",
       "      <th>Score1</th>\n",
       "      <th>Score2</th>\n",
       "      <th>Score3</th>\n",
       "      <th>Score4</th>\n",
       "      <th>Score5</th>\n",
       "    </tr>\n",
       "  </thead>\n",
       "  <tbody>\n",
       "    <tr>\n",
       "      <th>A</th>\n",
       "      <td>0.537067</td>\n",
       "      <td>0.200956</td>\n",
       "      <td>0.970166</td>\n",
       "      <td>0.456438</td>\n",
       "      <td>0.465402</td>\n",
       "    </tr>\n",
       "    <tr>\n",
       "      <th>B</th>\n",
       "      <td>0.647956</td>\n",
       "      <td>0.485658</td>\n",
       "      <td>0.374999</td>\n",
       "      <td>0.638319</td>\n",
       "      <td>0.595193</td>\n",
       "    </tr>\n",
       "    <tr>\n",
       "      <th>C</th>\n",
       "      <td>0.888368</td>\n",
       "      <td>0.358738</td>\n",
       "      <td>0.847181</td>\n",
       "      <td>0.975766</td>\n",
       "      <td>0.443798</td>\n",
       "    </tr>\n",
       "    <tr>\n",
       "      <th>D</th>\n",
       "      <td>0.307696</td>\n",
       "      <td>0.381271</td>\n",
       "      <td>0.022270</td>\n",
       "      <td>0.811045</td>\n",
       "      <td>0.886657</td>\n",
       "    </tr>\n",
       "    <tr>\n",
       "      <th>E</th>\n",
       "      <td>0.351520</td>\n",
       "      <td>0.687466</td>\n",
       "      <td>0.292502</td>\n",
       "      <td>0.349406</td>\n",
       "      <td>0.508295</td>\n",
       "    </tr>\n",
       "    <tr>\n",
       "      <th>F</th>\n",
       "      <td>0.105951</td>\n",
       "      <td>0.529553</td>\n",
       "      <td>0.492098</td>\n",
       "      <td>0.154220</td>\n",
       "      <td>0.161655</td>\n",
       "    </tr>\n",
       "    <tr>\n",
       "      <th>G</th>\n",
       "      <td>0.152437</td>\n",
       "      <td>0.407193</td>\n",
       "      <td>0.159128</td>\n",
       "      <td>0.764770</td>\n",
       "      <td>0.517145</td>\n",
       "    </tr>\n",
       "    <tr>\n",
       "      <th>H</th>\n",
       "      <td>0.168253</td>\n",
       "      <td>0.119337</td>\n",
       "      <td>0.613979</td>\n",
       "      <td>0.974279</td>\n",
       "      <td>0.142106</td>\n",
       "    </tr>\n",
       "  </tbody>\n",
       "</table>\n",
       "</div>"
      ],
      "text/plain": [
       "     Score1    Score2    Score3    Score4    Score5\n",
       "A  0.537067  0.200956  0.970166  0.456438  0.465402\n",
       "B  0.647956  0.485658  0.374999  0.638319  0.595193\n",
       "C  0.888368  0.358738  0.847181  0.975766  0.443798\n",
       "D  0.307696  0.381271  0.022270  0.811045  0.886657\n",
       "E  0.351520  0.687466  0.292502  0.349406  0.508295\n",
       "F  0.105951  0.529553  0.492098  0.154220  0.161655\n",
       "G  0.152437  0.407193  0.159128  0.764770  0.517145\n",
       "H  0.168253  0.119337  0.613979  0.974279  0.142106"
      ]
     },
     "execution_count": 7,
     "metadata": {},
     "output_type": "execute_result"
    }
   ],
   "source": [
    "df1=pd.DataFrame(np.random.rand(8,5),index='A B C D E F G H'.split(),columns='Score1 Score2 Score3 Score4 Score5'.split())\n",
    "df1                                   ### Creating a Tabular column"
   ]
  },
  {
   "cell_type": "code",
   "execution_count": 8,
   "id": "c1b655ca",
   "metadata": {},
   "outputs": [
    {
     "data": {
      "text/html": [
       "<div>\n",
       "<style scoped>\n",
       "    .dataframe tbody tr th:only-of-type {\n",
       "        vertical-align: middle;\n",
       "    }\n",
       "\n",
       "    .dataframe tbody tr th {\n",
       "        vertical-align: top;\n",
       "    }\n",
       "\n",
       "    .dataframe thead th {\n",
       "        text-align: right;\n",
       "    }\n",
       "</style>\n",
       "<table border=\"1\" class=\"dataframe\">\n",
       "  <thead>\n",
       "    <tr style=\"text-align: right;\">\n",
       "      <th></th>\n",
       "      <th>Score2</th>\n",
       "      <th>Score3</th>\n",
       "      <th>Score4</th>\n",
       "    </tr>\n",
       "  </thead>\n",
       "  <tbody>\n",
       "    <tr>\n",
       "      <th>A</th>\n",
       "      <td>0.200956</td>\n",
       "      <td>0.970166</td>\n",
       "      <td>0.456438</td>\n",
       "    </tr>\n",
       "    <tr>\n",
       "      <th>B</th>\n",
       "      <td>0.485658</td>\n",
       "      <td>0.374999</td>\n",
       "      <td>0.638319</td>\n",
       "    </tr>\n",
       "    <tr>\n",
       "      <th>C</th>\n",
       "      <td>0.358738</td>\n",
       "      <td>0.847181</td>\n",
       "      <td>0.975766</td>\n",
       "    </tr>\n",
       "    <tr>\n",
       "      <th>D</th>\n",
       "      <td>0.381271</td>\n",
       "      <td>0.022270</td>\n",
       "      <td>0.811045</td>\n",
       "    </tr>\n",
       "    <tr>\n",
       "      <th>E</th>\n",
       "      <td>0.687466</td>\n",
       "      <td>0.292502</td>\n",
       "      <td>0.349406</td>\n",
       "    </tr>\n",
       "    <tr>\n",
       "      <th>F</th>\n",
       "      <td>0.529553</td>\n",
       "      <td>0.492098</td>\n",
       "      <td>0.154220</td>\n",
       "    </tr>\n",
       "    <tr>\n",
       "      <th>G</th>\n",
       "      <td>0.407193</td>\n",
       "      <td>0.159128</td>\n",
       "      <td>0.764770</td>\n",
       "    </tr>\n",
       "    <tr>\n",
       "      <th>H</th>\n",
       "      <td>0.119337</td>\n",
       "      <td>0.613979</td>\n",
       "      <td>0.974279</td>\n",
       "    </tr>\n",
       "  </tbody>\n",
       "</table>\n",
       "</div>"
      ],
      "text/plain": [
       "     Score2    Score3    Score4\n",
       "A  0.200956  0.970166  0.456438\n",
       "B  0.485658  0.374999  0.638319\n",
       "C  0.358738  0.847181  0.975766\n",
       "D  0.381271  0.022270  0.811045\n",
       "E  0.687466  0.292502  0.349406\n",
       "F  0.529553  0.492098  0.154220\n",
       "G  0.407193  0.159128  0.764770\n",
       "H  0.119337  0.613979  0.974279"
      ]
     },
     "execution_count": 8,
     "metadata": {},
     "output_type": "execute_result"
    }
   ],
   "source": [
    "df1[['Score2','Score3','Score4']]     ### Tabular column of Score2 Score3 Score4"
   ]
  },
  {
   "cell_type": "code",
   "execution_count": 9,
   "id": "7b6605fe",
   "metadata": {},
   "outputs": [
    {
     "data": {
      "text/plain": [
       "A    0.200956\n",
       "B    0.485658\n",
       "C    0.358738\n",
       "D    0.381271\n",
       "E    0.687466\n",
       "F    0.529553\n",
       "G    0.407193\n",
       "H    0.119337\n",
       "Name: Score2, dtype: float64"
      ]
     },
     "execution_count": 9,
     "metadata": {},
     "output_type": "execute_result"
    }
   ],
   "source": [
    "df1['Score2']      ### Score2 column"
   ]
  },
  {
   "cell_type": "code",
   "execution_count": 10,
   "id": "ed35fe20",
   "metadata": {},
   "outputs": [
    {
     "data": {
      "text/html": [
       "<div>\n",
       "<style scoped>\n",
       "    .dataframe tbody tr th:only-of-type {\n",
       "        vertical-align: middle;\n",
       "    }\n",
       "\n",
       "    .dataframe tbody tr th {\n",
       "        vertical-align: top;\n",
       "    }\n",
       "\n",
       "    .dataframe thead th {\n",
       "        text-align: right;\n",
       "    }\n",
       "</style>\n",
       "<table border=\"1\" class=\"dataframe\">\n",
       "  <thead>\n",
       "    <tr style=\"text-align: right;\">\n",
       "      <th></th>\n",
       "      <th>Score1</th>\n",
       "      <th>Score2</th>\n",
       "      <th>Score3</th>\n",
       "      <th>Score4</th>\n",
       "      <th>Score5</th>\n",
       "      <th>Score6</th>\n",
       "    </tr>\n",
       "  </thead>\n",
       "  <tbody>\n",
       "    <tr>\n",
       "      <th>A</th>\n",
       "      <td>0.537067</td>\n",
       "      <td>0.200956</td>\n",
       "      <td>0.970166</td>\n",
       "      <td>0.456438</td>\n",
       "      <td>0.465402</td>\n",
       "      <td>0.738023</td>\n",
       "    </tr>\n",
       "    <tr>\n",
       "      <th>B</th>\n",
       "      <td>0.647956</td>\n",
       "      <td>0.485658</td>\n",
       "      <td>0.374999</td>\n",
       "      <td>0.638319</td>\n",
       "      <td>0.595193</td>\n",
       "      <td>1.133614</td>\n",
       "    </tr>\n",
       "    <tr>\n",
       "      <th>C</th>\n",
       "      <td>0.888368</td>\n",
       "      <td>0.358738</td>\n",
       "      <td>0.847181</td>\n",
       "      <td>0.975766</td>\n",
       "      <td>0.443798</td>\n",
       "      <td>1.247107</td>\n",
       "    </tr>\n",
       "    <tr>\n",
       "      <th>D</th>\n",
       "      <td>0.307696</td>\n",
       "      <td>0.381271</td>\n",
       "      <td>0.022270</td>\n",
       "      <td>0.811045</td>\n",
       "      <td>0.886657</td>\n",
       "      <td>0.688967</td>\n",
       "    </tr>\n",
       "    <tr>\n",
       "      <th>E</th>\n",
       "      <td>0.351520</td>\n",
       "      <td>0.687466</td>\n",
       "      <td>0.292502</td>\n",
       "      <td>0.349406</td>\n",
       "      <td>0.508295</td>\n",
       "      <td>1.038986</td>\n",
       "    </tr>\n",
       "    <tr>\n",
       "      <th>F</th>\n",
       "      <td>0.105951</td>\n",
       "      <td>0.529553</td>\n",
       "      <td>0.492098</td>\n",
       "      <td>0.154220</td>\n",
       "      <td>0.161655</td>\n",
       "      <td>0.635504</td>\n",
       "    </tr>\n",
       "    <tr>\n",
       "      <th>G</th>\n",
       "      <td>0.152437</td>\n",
       "      <td>0.407193</td>\n",
       "      <td>0.159128</td>\n",
       "      <td>0.764770</td>\n",
       "      <td>0.517145</td>\n",
       "      <td>0.559631</td>\n",
       "    </tr>\n",
       "    <tr>\n",
       "      <th>H</th>\n",
       "      <td>0.168253</td>\n",
       "      <td>0.119337</td>\n",
       "      <td>0.613979</td>\n",
       "      <td>0.974279</td>\n",
       "      <td>0.142106</td>\n",
       "      <td>0.287590</td>\n",
       "    </tr>\n",
       "  </tbody>\n",
       "</table>\n",
       "</div>"
      ],
      "text/plain": [
       "     Score1    Score2    Score3    Score4    Score5    Score6\n",
       "A  0.537067  0.200956  0.970166  0.456438  0.465402  0.738023\n",
       "B  0.647956  0.485658  0.374999  0.638319  0.595193  1.133614\n",
       "C  0.888368  0.358738  0.847181  0.975766  0.443798  1.247107\n",
       "D  0.307696  0.381271  0.022270  0.811045  0.886657  0.688967\n",
       "E  0.351520  0.687466  0.292502  0.349406  0.508295  1.038986\n",
       "F  0.105951  0.529553  0.492098  0.154220  0.161655  0.635504\n",
       "G  0.152437  0.407193  0.159128  0.764770  0.517145  0.559631\n",
       "H  0.168253  0.119337  0.613979  0.974279  0.142106  0.287590"
      ]
     },
     "execution_count": 10,
     "metadata": {},
     "output_type": "execute_result"
    }
   ],
   "source": [
    "df1['Score6']=df1['Score1']+df1['Score2']       ### Adding the sixth column Score6 as sum of Score1 and Score2\n",
    "df1"
   ]
  },
  {
   "cell_type": "code",
   "execution_count": 11,
   "id": "832a1723",
   "metadata": {},
   "outputs": [
    {
     "data": {
      "text/html": [
       "<div>\n",
       "<style scoped>\n",
       "    .dataframe tbody tr th:only-of-type {\n",
       "        vertical-align: middle;\n",
       "    }\n",
       "\n",
       "    .dataframe tbody tr th {\n",
       "        vertical-align: top;\n",
       "    }\n",
       "\n",
       "    .dataframe thead th {\n",
       "        text-align: right;\n",
       "    }\n",
       "</style>\n",
       "<table border=\"1\" class=\"dataframe\">\n",
       "  <thead>\n",
       "    <tr style=\"text-align: right;\">\n",
       "      <th></th>\n",
       "      <th>Score1</th>\n",
       "      <th>Score2</th>\n",
       "      <th>Score3</th>\n",
       "      <th>Score4</th>\n",
       "      <th>Score5</th>\n",
       "      <th>Score6</th>\n",
       "    </tr>\n",
       "  </thead>\n",
       "  <tbody>\n",
       "    <tr>\n",
       "      <th>A</th>\n",
       "      <td>0.537067</td>\n",
       "      <td>0.200956</td>\n",
       "      <td>0.970166</td>\n",
       "      <td>0.456438</td>\n",
       "      <td>0.465402</td>\n",
       "      <td>0.738023</td>\n",
       "    </tr>\n",
       "    <tr>\n",
       "      <th>B</th>\n",
       "      <td>0.647956</td>\n",
       "      <td>0.485658</td>\n",
       "      <td>0.374999</td>\n",
       "      <td>0.638319</td>\n",
       "      <td>0.595193</td>\n",
       "      <td>1.133614</td>\n",
       "    </tr>\n",
       "    <tr>\n",
       "      <th>C</th>\n",
       "      <td>0.888368</td>\n",
       "      <td>0.358738</td>\n",
       "      <td>0.847181</td>\n",
       "      <td>0.975766</td>\n",
       "      <td>0.443798</td>\n",
       "      <td>1.247107</td>\n",
       "    </tr>\n",
       "    <tr>\n",
       "      <th>D</th>\n",
       "      <td>0.307696</td>\n",
       "      <td>0.381271</td>\n",
       "      <td>0.022270</td>\n",
       "      <td>0.811045</td>\n",
       "      <td>0.886657</td>\n",
       "      <td>0.688967</td>\n",
       "    </tr>\n",
       "    <tr>\n",
       "      <th>F</th>\n",
       "      <td>0.105951</td>\n",
       "      <td>0.529553</td>\n",
       "      <td>0.492098</td>\n",
       "      <td>0.154220</td>\n",
       "      <td>0.161655</td>\n",
       "      <td>0.635504</td>\n",
       "    </tr>\n",
       "    <tr>\n",
       "      <th>G</th>\n",
       "      <td>0.152437</td>\n",
       "      <td>0.407193</td>\n",
       "      <td>0.159128</td>\n",
       "      <td>0.764770</td>\n",
       "      <td>0.517145</td>\n",
       "      <td>0.559631</td>\n",
       "    </tr>\n",
       "    <tr>\n",
       "      <th>H</th>\n",
       "      <td>0.168253</td>\n",
       "      <td>0.119337</td>\n",
       "      <td>0.613979</td>\n",
       "      <td>0.974279</td>\n",
       "      <td>0.142106</td>\n",
       "      <td>0.287590</td>\n",
       "    </tr>\n",
       "  </tbody>\n",
       "</table>\n",
       "</div>"
      ],
      "text/plain": [
       "     Score1    Score2    Score3    Score4    Score5    Score6\n",
       "A  0.537067  0.200956  0.970166  0.456438  0.465402  0.738023\n",
       "B  0.647956  0.485658  0.374999  0.638319  0.595193  1.133614\n",
       "C  0.888368  0.358738  0.847181  0.975766  0.443798  1.247107\n",
       "D  0.307696  0.381271  0.022270  0.811045  0.886657  0.688967\n",
       "F  0.105951  0.529553  0.492098  0.154220  0.161655  0.635504\n",
       "G  0.152437  0.407193  0.159128  0.764770  0.517145  0.559631\n",
       "H  0.168253  0.119337  0.613979  0.974279  0.142106  0.287590"
      ]
     },
     "execution_count": 11,
     "metadata": {},
     "output_type": "execute_result"
    }
   ],
   "source": [
    "df1.drop('E')          ### Dropping the E Row from the Tabular column"
   ]
  },
  {
   "cell_type": "code",
   "execution_count": 12,
   "id": "4ae72e6f",
   "metadata": {},
   "outputs": [
    {
     "data": {
      "text/html": [
       "<div>\n",
       "<style scoped>\n",
       "    .dataframe tbody tr th:only-of-type {\n",
       "        vertical-align: middle;\n",
       "    }\n",
       "\n",
       "    .dataframe tbody tr th {\n",
       "        vertical-align: top;\n",
       "    }\n",
       "\n",
       "    .dataframe thead th {\n",
       "        text-align: right;\n",
       "    }\n",
       "</style>\n",
       "<table border=\"1\" class=\"dataframe\">\n",
       "  <thead>\n",
       "    <tr style=\"text-align: right;\">\n",
       "      <th></th>\n",
       "      <th>Score2</th>\n",
       "      <th>Score3</th>\n",
       "      <th>Score4</th>\n",
       "      <th>Score5</th>\n",
       "      <th>Score6</th>\n",
       "    </tr>\n",
       "  </thead>\n",
       "  <tbody>\n",
       "    <tr>\n",
       "      <th>A</th>\n",
       "      <td>0.200956</td>\n",
       "      <td>0.970166</td>\n",
       "      <td>0.456438</td>\n",
       "      <td>0.465402</td>\n",
       "      <td>0.738023</td>\n",
       "    </tr>\n",
       "    <tr>\n",
       "      <th>B</th>\n",
       "      <td>0.485658</td>\n",
       "      <td>0.374999</td>\n",
       "      <td>0.638319</td>\n",
       "      <td>0.595193</td>\n",
       "      <td>1.133614</td>\n",
       "    </tr>\n",
       "    <tr>\n",
       "      <th>C</th>\n",
       "      <td>0.358738</td>\n",
       "      <td>0.847181</td>\n",
       "      <td>0.975766</td>\n",
       "      <td>0.443798</td>\n",
       "      <td>1.247107</td>\n",
       "    </tr>\n",
       "    <tr>\n",
       "      <th>D</th>\n",
       "      <td>0.381271</td>\n",
       "      <td>0.022270</td>\n",
       "      <td>0.811045</td>\n",
       "      <td>0.886657</td>\n",
       "      <td>0.688967</td>\n",
       "    </tr>\n",
       "    <tr>\n",
       "      <th>E</th>\n",
       "      <td>0.687466</td>\n",
       "      <td>0.292502</td>\n",
       "      <td>0.349406</td>\n",
       "      <td>0.508295</td>\n",
       "      <td>1.038986</td>\n",
       "    </tr>\n",
       "    <tr>\n",
       "      <th>F</th>\n",
       "      <td>0.529553</td>\n",
       "      <td>0.492098</td>\n",
       "      <td>0.154220</td>\n",
       "      <td>0.161655</td>\n",
       "      <td>0.635504</td>\n",
       "    </tr>\n",
       "    <tr>\n",
       "      <th>G</th>\n",
       "      <td>0.407193</td>\n",
       "      <td>0.159128</td>\n",
       "      <td>0.764770</td>\n",
       "      <td>0.517145</td>\n",
       "      <td>0.559631</td>\n",
       "    </tr>\n",
       "    <tr>\n",
       "      <th>H</th>\n",
       "      <td>0.119337</td>\n",
       "      <td>0.613979</td>\n",
       "      <td>0.974279</td>\n",
       "      <td>0.142106</td>\n",
       "      <td>0.287590</td>\n",
       "    </tr>\n",
       "  </tbody>\n",
       "</table>\n",
       "</div>"
      ],
      "text/plain": [
       "     Score2    Score3    Score4    Score5    Score6\n",
       "A  0.200956  0.970166  0.456438  0.465402  0.738023\n",
       "B  0.485658  0.374999  0.638319  0.595193  1.133614\n",
       "C  0.358738  0.847181  0.975766  0.443798  1.247107\n",
       "D  0.381271  0.022270  0.811045  0.886657  0.688967\n",
       "E  0.687466  0.292502  0.349406  0.508295  1.038986\n",
       "F  0.529553  0.492098  0.154220  0.161655  0.635504\n",
       "G  0.407193  0.159128  0.764770  0.517145  0.559631\n",
       "H  0.119337  0.613979  0.974279  0.142106  0.287590"
      ]
     },
     "execution_count": 12,
     "metadata": {},
     "output_type": "execute_result"
    }
   ],
   "source": [
    "df1.drop('Score1',axis=1)      ### Dropping the Score1 Column from the Tabular column by using the axis=1 as axis=1 denotes dropping for the column "
   ]
  },
  {
   "cell_type": "code",
   "execution_count": 13,
   "id": "f0c8d246",
   "metadata": {},
   "outputs": [
    {
     "data": {
      "text/html": [
       "<div>\n",
       "<style scoped>\n",
       "    .dataframe tbody tr th:only-of-type {\n",
       "        vertical-align: middle;\n",
       "    }\n",
       "\n",
       "    .dataframe tbody tr th {\n",
       "        vertical-align: top;\n",
       "    }\n",
       "\n",
       "    .dataframe thead th {\n",
       "        text-align: right;\n",
       "    }\n",
       "</style>\n",
       "<table border=\"1\" class=\"dataframe\">\n",
       "  <thead>\n",
       "    <tr style=\"text-align: right;\">\n",
       "      <th></th>\n",
       "      <th>Score1</th>\n",
       "      <th>Score2</th>\n",
       "      <th>Score3</th>\n",
       "      <th>Score4</th>\n",
       "      <th>Score5</th>\n",
       "      <th>Score6</th>\n",
       "    </tr>\n",
       "  </thead>\n",
       "  <tbody>\n",
       "    <tr>\n",
       "      <th>B</th>\n",
       "      <td>0.647956</td>\n",
       "      <td>0.485658</td>\n",
       "      <td>0.374999</td>\n",
       "      <td>0.638319</td>\n",
       "      <td>0.595193</td>\n",
       "      <td>1.133614</td>\n",
       "    </tr>\n",
       "    <tr>\n",
       "      <th>C</th>\n",
       "      <td>0.888368</td>\n",
       "      <td>0.358738</td>\n",
       "      <td>0.847181</td>\n",
       "      <td>0.975766</td>\n",
       "      <td>0.443798</td>\n",
       "      <td>1.247107</td>\n",
       "    </tr>\n",
       "    <tr>\n",
       "      <th>D</th>\n",
       "      <td>0.307696</td>\n",
       "      <td>0.381271</td>\n",
       "      <td>0.022270</td>\n",
       "      <td>0.811045</td>\n",
       "      <td>0.886657</td>\n",
       "      <td>0.688967</td>\n",
       "    </tr>\n",
       "    <tr>\n",
       "      <th>E</th>\n",
       "      <td>0.351520</td>\n",
       "      <td>0.687466</td>\n",
       "      <td>0.292502</td>\n",
       "      <td>0.349406</td>\n",
       "      <td>0.508295</td>\n",
       "      <td>1.038986</td>\n",
       "    </tr>\n",
       "    <tr>\n",
       "      <th>F</th>\n",
       "      <td>0.105951</td>\n",
       "      <td>0.529553</td>\n",
       "      <td>0.492098</td>\n",
       "      <td>0.154220</td>\n",
       "      <td>0.161655</td>\n",
       "      <td>0.635504</td>\n",
       "    </tr>\n",
       "    <tr>\n",
       "      <th>G</th>\n",
       "      <td>0.152437</td>\n",
       "      <td>0.407193</td>\n",
       "      <td>0.159128</td>\n",
       "      <td>0.764770</td>\n",
       "      <td>0.517145</td>\n",
       "      <td>0.559631</td>\n",
       "    </tr>\n",
       "    <tr>\n",
       "      <th>H</th>\n",
       "      <td>0.168253</td>\n",
       "      <td>0.119337</td>\n",
       "      <td>0.613979</td>\n",
       "      <td>0.974279</td>\n",
       "      <td>0.142106</td>\n",
       "      <td>0.287590</td>\n",
       "    </tr>\n",
       "  </tbody>\n",
       "</table>\n",
       "</div>"
      ],
      "text/plain": [
       "     Score1    Score2    Score3    Score4    Score5    Score6\n",
       "B  0.647956  0.485658  0.374999  0.638319  0.595193  1.133614\n",
       "C  0.888368  0.358738  0.847181  0.975766  0.443798  1.247107\n",
       "D  0.307696  0.381271  0.022270  0.811045  0.886657  0.688967\n",
       "E  0.351520  0.687466  0.292502  0.349406  0.508295  1.038986\n",
       "F  0.105951  0.529553  0.492098  0.154220  0.161655  0.635504\n",
       "G  0.152437  0.407193  0.159128  0.764770  0.517145  0.559631\n",
       "H  0.168253  0.119337  0.613979  0.974279  0.142106  0.287590"
      ]
     },
     "execution_count": 13,
     "metadata": {},
     "output_type": "execute_result"
    }
   ],
   "source": [
    "df1.drop('A',axis=0)     ### Dropping the A Row from the Tabular column by using the axis=0 as for dropping the row we can write axis=0"
   ]
  },
  {
   "cell_type": "code",
   "execution_count": 14,
   "id": "8f3a6bc6",
   "metadata": {},
   "outputs": [
    {
     "data": {
      "text/html": [
       "<div>\n",
       "<style scoped>\n",
       "    .dataframe tbody tr th:only-of-type {\n",
       "        vertical-align: middle;\n",
       "    }\n",
       "\n",
       "    .dataframe tbody tr th {\n",
       "        vertical-align: top;\n",
       "    }\n",
       "\n",
       "    .dataframe thead th {\n",
       "        text-align: right;\n",
       "    }\n",
       "</style>\n",
       "<table border=\"1\" class=\"dataframe\">\n",
       "  <thead>\n",
       "    <tr style=\"text-align: right;\">\n",
       "      <th></th>\n",
       "      <th>Score3</th>\n",
       "      <th>Score4</th>\n",
       "      <th>Score5</th>\n",
       "      <th>Score6</th>\n",
       "    </tr>\n",
       "  </thead>\n",
       "  <tbody>\n",
       "    <tr>\n",
       "      <th>A</th>\n",
       "      <td>0.970166</td>\n",
       "      <td>0.456438</td>\n",
       "      <td>0.465402</td>\n",
       "      <td>0.738023</td>\n",
       "    </tr>\n",
       "    <tr>\n",
       "      <th>B</th>\n",
       "      <td>0.374999</td>\n",
       "      <td>0.638319</td>\n",
       "      <td>0.595193</td>\n",
       "      <td>1.133614</td>\n",
       "    </tr>\n",
       "    <tr>\n",
       "      <th>C</th>\n",
       "      <td>0.847181</td>\n",
       "      <td>0.975766</td>\n",
       "      <td>0.443798</td>\n",
       "      <td>1.247107</td>\n",
       "    </tr>\n",
       "    <tr>\n",
       "      <th>D</th>\n",
       "      <td>0.022270</td>\n",
       "      <td>0.811045</td>\n",
       "      <td>0.886657</td>\n",
       "      <td>0.688967</td>\n",
       "    </tr>\n",
       "    <tr>\n",
       "      <th>E</th>\n",
       "      <td>0.292502</td>\n",
       "      <td>0.349406</td>\n",
       "      <td>0.508295</td>\n",
       "      <td>1.038986</td>\n",
       "    </tr>\n",
       "    <tr>\n",
       "      <th>F</th>\n",
       "      <td>0.492098</td>\n",
       "      <td>0.154220</td>\n",
       "      <td>0.161655</td>\n",
       "      <td>0.635504</td>\n",
       "    </tr>\n",
       "    <tr>\n",
       "      <th>G</th>\n",
       "      <td>0.159128</td>\n",
       "      <td>0.764770</td>\n",
       "      <td>0.517145</td>\n",
       "      <td>0.559631</td>\n",
       "    </tr>\n",
       "    <tr>\n",
       "      <th>H</th>\n",
       "      <td>0.613979</td>\n",
       "      <td>0.974279</td>\n",
       "      <td>0.142106</td>\n",
       "      <td>0.287590</td>\n",
       "    </tr>\n",
       "  </tbody>\n",
       "</table>\n",
       "</div>"
      ],
      "text/plain": [
       "     Score3    Score4    Score5    Score6\n",
       "A  0.970166  0.456438  0.465402  0.738023\n",
       "B  0.374999  0.638319  0.595193  1.133614\n",
       "C  0.847181  0.975766  0.443798  1.247107\n",
       "D  0.022270  0.811045  0.886657  0.688967\n",
       "E  0.292502  0.349406  0.508295  1.038986\n",
       "F  0.492098  0.154220  0.161655  0.635504\n",
       "G  0.159128  0.764770  0.517145  0.559631\n",
       "H  0.613979  0.974279  0.142106  0.287590"
      ]
     },
     "execution_count": 14,
     "metadata": {},
     "output_type": "execute_result"
    }
   ],
   "source": [
    "df1.drop(['Score1','Score2'],axis=1)    ### Score1 and Score2 column is dropped from the Tabular column"
   ]
  },
  {
   "cell_type": "code",
   "execution_count": 15,
   "id": "9ade3548",
   "metadata": {},
   "outputs": [
    {
     "data": {
      "text/html": [
       "<div>\n",
       "<style scoped>\n",
       "    .dataframe tbody tr th:only-of-type {\n",
       "        vertical-align: middle;\n",
       "    }\n",
       "\n",
       "    .dataframe tbody tr th {\n",
       "        vertical-align: top;\n",
       "    }\n",
       "\n",
       "    .dataframe thead th {\n",
       "        text-align: right;\n",
       "    }\n",
       "</style>\n",
       "<table border=\"1\" class=\"dataframe\">\n",
       "  <thead>\n",
       "    <tr style=\"text-align: right;\">\n",
       "      <th></th>\n",
       "      <th>ID</th>\n",
       "      <th>Name</th>\n",
       "      <th>Profit</th>\n",
       "    </tr>\n",
       "  </thead>\n",
       "  <tbody>\n",
       "    <tr>\n",
       "      <th>0</th>\n",
       "      <td>101</td>\n",
       "      <td>John</td>\n",
       "      <td>20</td>\n",
       "    </tr>\n",
       "    <tr>\n",
       "      <th>1</th>\n",
       "      <td>102</td>\n",
       "      <td>Mercy</td>\n",
       "      <td>54</td>\n",
       "    </tr>\n",
       "    <tr>\n",
       "      <th>2</th>\n",
       "      <td>103</td>\n",
       "      <td>Akash</td>\n",
       "      <td>56</td>\n",
       "    </tr>\n",
       "    <tr>\n",
       "      <th>3</th>\n",
       "      <td>107</td>\n",
       "      <td>Kavin</td>\n",
       "      <td>87</td>\n",
       "    </tr>\n",
       "    <tr>\n",
       "      <th>4</th>\n",
       "      <td>176</td>\n",
       "      <td>Lally</td>\n",
       "      <td>123</td>\n",
       "    </tr>\n",
       "  </tbody>\n",
       "</table>\n",
       "</div>"
      ],
      "text/plain": [
       "    ID   Name  Profit\n",
       "0  101   John      20\n",
       "1  102  Mercy      54\n",
       "2  103  Akash      56\n",
       "3  107  Kavin      87\n",
       "4  176  Lally     123"
      ]
     },
     "execution_count": 15,
     "metadata": {},
     "output_type": "execute_result"
    }
   ],
   "source": [
    "df2={'ID':[101,102,103,107,176],'Name':['John','Mercy','Akash','Kavin','Lally'],'Profit':[20,54,56,87,123]}\n",
    "df=pd.DataFrame(df2)\n",
    "df                     ### Creating a Data Frame with ID Name and Profit as the Tabular Column"
   ]
  },
  {
   "cell_type": "code",
   "execution_count": 16,
   "id": "7722f955",
   "metadata": {},
   "outputs": [
    {
     "data": {
      "text/html": [
       "<div>\n",
       "<style scoped>\n",
       "    .dataframe tbody tr th:only-of-type {\n",
       "        vertical-align: middle;\n",
       "    }\n",
       "\n",
       "    .dataframe tbody tr th {\n",
       "        vertical-align: top;\n",
       "    }\n",
       "\n",
       "    .dataframe thead th {\n",
       "        text-align: right;\n",
       "    }\n",
       "</style>\n",
       "<table border=\"1\" class=\"dataframe\">\n",
       "  <thead>\n",
       "    <tr style=\"text-align: right;\">\n",
       "      <th></th>\n",
       "      <th>ID</th>\n",
       "      <th>Name</th>\n",
       "      <th>Profit</th>\n",
       "    </tr>\n",
       "  </thead>\n",
       "  <tbody>\n",
       "    <tr>\n",
       "      <th>0</th>\n",
       "      <td>101</td>\n",
       "      <td>John</td>\n",
       "      <td>20</td>\n",
       "    </tr>\n",
       "    <tr>\n",
       "      <th>1</th>\n",
       "      <td>102</td>\n",
       "      <td>Mercy</td>\n",
       "      <td>54</td>\n",
       "    </tr>\n",
       "    <tr>\n",
       "      <th>2</th>\n",
       "      <td>103</td>\n",
       "      <td>Akash</td>\n",
       "      <td>56</td>\n",
       "    </tr>\n",
       "    <tr>\n",
       "      <th>4</th>\n",
       "      <td>176</td>\n",
       "      <td>Lally</td>\n",
       "      <td>123</td>\n",
       "    </tr>\n",
       "  </tbody>\n",
       "</table>\n",
       "</div>"
      ],
      "text/plain": [
       "    ID   Name  Profit\n",
       "0  101   John      20\n",
       "1  102  Mercy      54\n",
       "2  103  Akash      56\n",
       "4  176  Lally     123"
      ]
     },
     "execution_count": 16,
     "metadata": {},
     "output_type": "execute_result"
    }
   ],
   "source": [
    "df.drop(3)          ### Dropping the 3rd Row "
   ]
  },
  {
   "cell_type": "code",
   "execution_count": 17,
   "id": "34d1b1bb",
   "metadata": {},
   "outputs": [
    {
     "data": {
      "text/plain": [
       "0     John\n",
       "1    Mercy\n",
       "2    Akash\n",
       "3    Kavin\n",
       "4    Lally\n",
       "Name: Name, dtype: object"
      ]
     },
     "execution_count": 17,
     "metadata": {},
     "output_type": "execute_result"
    }
   ],
   "source": [
    "df['Name']         ### Displaying the Name column"
   ]
  },
  {
   "cell_type": "code",
   "execution_count": 18,
   "id": "bd8be20c",
   "metadata": {},
   "outputs": [
    {
     "data": {
      "text/html": [
       "<div>\n",
       "<style scoped>\n",
       "    .dataframe tbody tr th:only-of-type {\n",
       "        vertical-align: middle;\n",
       "    }\n",
       "\n",
       "    .dataframe tbody tr th {\n",
       "        vertical-align: top;\n",
       "    }\n",
       "\n",
       "    .dataframe thead th {\n",
       "        text-align: right;\n",
       "    }\n",
       "</style>\n",
       "<table border=\"1\" class=\"dataframe\">\n",
       "  <thead>\n",
       "    <tr style=\"text-align: right;\">\n",
       "      <th></th>\n",
       "      <th>Name</th>\n",
       "      <th>ID</th>\n",
       "    </tr>\n",
       "  </thead>\n",
       "  <tbody>\n",
       "    <tr>\n",
       "      <th>0</th>\n",
       "      <td>John</td>\n",
       "      <td>101</td>\n",
       "    </tr>\n",
       "    <tr>\n",
       "      <th>1</th>\n",
       "      <td>Mercy</td>\n",
       "      <td>102</td>\n",
       "    </tr>\n",
       "    <tr>\n",
       "      <th>2</th>\n",
       "      <td>Akash</td>\n",
       "      <td>103</td>\n",
       "    </tr>\n",
       "    <tr>\n",
       "      <th>3</th>\n",
       "      <td>Kavin</td>\n",
       "      <td>107</td>\n",
       "    </tr>\n",
       "    <tr>\n",
       "      <th>4</th>\n",
       "      <td>Lally</td>\n",
       "      <td>176</td>\n",
       "    </tr>\n",
       "  </tbody>\n",
       "</table>\n",
       "</div>"
      ],
      "text/plain": [
       "    Name   ID\n",
       "0   John  101\n",
       "1  Mercy  102\n",
       "2  Akash  103\n",
       "3  Kavin  107\n",
       "4  Lally  176"
      ]
     },
     "execution_count": 18,
     "metadata": {},
     "output_type": "execute_result"
    }
   ],
   "source": [
    "df[['Name','ID']]       ### Displaying the Name and ID column"
   ]
  },
  {
   "cell_type": "code",
   "execution_count": 20,
   "id": "8ca5974b",
   "metadata": {},
   "outputs": [],
   "source": [
    "### Assessment\n",
    "1) Create a null vector of size 10\n",
    "2) Create a null vector of size 10 but the fifth value should be one\n",
    "3) Create a vector with values ranging from 10 to 65\n",
    "4) Reverse the above vector\n",
    "5) Create a 3x3 matrix with values ranging from 0 to 8"
   ]
  },
  {
   "cell_type": "code",
   "execution_count": 21,
   "id": "f7b87794",
   "metadata": {},
   "outputs": [
    {
     "data": {
      "text/plain": [
       "array([0., 0., 0., 0., 0., 0., 0., 0., 0., 0.])"
      ]
     },
     "execution_count": 21,
     "metadata": {},
     "output_type": "execute_result"
    }
   ],
   "source": [
    "np.zeros(10)        "
   ]
  },
  {
   "cell_type": "code",
   "execution_count": 22,
   "id": "bfcfe310",
   "metadata": {},
   "outputs": [
    {
     "data": {
      "text/plain": [
       "array([0., 0., 0., 0., 1., 0., 0., 0., 0., 0.])"
      ]
     },
     "execution_count": 22,
     "metadata": {},
     "output_type": "execute_result"
    }
   ],
   "source": [
    "array=np.zeros(10)\n",
    "array[4]=1\n",
    "array"
   ]
  },
  {
   "cell_type": "code",
   "execution_count": 23,
   "id": "7d3a5f31",
   "metadata": {},
   "outputs": [
    {
     "data": {
      "text/plain": [
       "array([10, 11, 12, 13, 14, 15, 16, 17, 18, 19, 20, 21, 22, 23, 24, 25, 26,\n",
       "       27, 28, 29, 30, 31, 32, 33, 34, 35, 36, 37, 38, 39, 40, 41, 42, 43,\n",
       "       44, 45, 46, 47, 48, 49, 50, 51, 52, 53, 54, 55, 56, 57, 58, 59, 60,\n",
       "       61, 62, 63, 64, 65])"
      ]
     },
     "execution_count": 23,
     "metadata": {},
     "output_type": "execute_result"
    }
   ],
   "source": [
    "w=np.arange(10,66)\n",
    "w"
   ]
  },
  {
   "cell_type": "code",
   "execution_count": 24,
   "id": "db3fe282",
   "metadata": {},
   "outputs": [
    {
     "data": {
      "text/plain": [
       "array([65, 64, 63, 62, 61, 60, 59, 58, 57, 56, 55, 54, 53, 52, 51, 50, 49,\n",
       "       48, 47, 46, 45, 44, 43, 42, 41, 40, 39, 38, 37, 36, 35, 34, 33, 32,\n",
       "       31, 30, 29, 28, 27, 26, 25, 24, 23, 22, 21, 20, 19, 18, 17, 16, 15,\n",
       "       14, 13, 12, 11, 10])"
      ]
     },
     "execution_count": 24,
     "metadata": {},
     "output_type": "execute_result"
    }
   ],
   "source": [
    "w=np.arange(65,9,-1)\n",
    "w"
   ]
  },
  {
   "cell_type": "code",
   "execution_count": 25,
   "id": "6616ed80",
   "metadata": {},
   "outputs": [
    {
     "data": {
      "text/plain": [
       "array([[0, 1, 2],\n",
       "       [3, 4, 5],\n",
       "       [6, 7, 8]])"
      ]
     },
     "execution_count": 25,
     "metadata": {},
     "output_type": "execute_result"
    }
   ],
   "source": [
    "z=np.arange(0,9).reshape(3,3)\n",
    "z"
   ]
  },
  {
   "cell_type": "code",
   "execution_count": null,
   "id": "f36af31b",
   "metadata": {},
   "outputs": [],
   "source": []
  }
 ],
 "metadata": {
  "kernelspec": {
   "display_name": "Python 3 (ipykernel)",
   "language": "python",
   "name": "python3"
  },
  "language_info": {
   "codemirror_mode": {
    "name": "ipython",
    "version": 3
   },
   "file_extension": ".py",
   "mimetype": "text/x-python",
   "name": "python",
   "nbconvert_exporter": "python",
   "pygments_lexer": "ipython3",
   "version": "3.9.7"
  }
 },
 "nbformat": 4,
 "nbformat_minor": 5
}
